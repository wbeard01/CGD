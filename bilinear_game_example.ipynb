{
 "cells": [
  {
   "cell_type": "code",
   "execution_count": 55,
   "metadata": {},
   "outputs": [],
   "source": [
    "from optimizers import GDA, CGD\n",
    "import jax.numpy as jnp\n",
    "import plotly.express as px\n",
    "import pandas as pd"
   ]
  },
  {
   "cell_type": "markdown",
   "metadata": {},
   "source": [
    "Initialize a simple bilinear game with functions $f(x,y)=x^Ty=-g(x,y)$. Run GDA and CGD for 50 iterations using $\\eta=0.2$ with $x$ and $y$ starting as column vectors consisting of a single 1."
   ]
  },
  {
   "cell_type": "code",
   "execution_count": 56,
   "metadata": {},
   "outputs": [],
   "source": [
    "f = lambda x, y: (x.T @ y)[0, 0]\n",
    "g = lambda x, y: -f(x, y)\n",
    "gda_x, gda_y = GDA(f, g, jnp.ones((1, 1)), jnp.ones((1, 1)), iterations=50)\n",
    "cgd_x, cgd_y = CGD(f, g, jnp.ones((1, 1)), jnp.ones((1, 1)), iterations=50)"
   ]
  },
  {
   "cell_type": "markdown",
   "metadata": {},
   "source": [
    "Extract dataframe from results for plotting."
   ]
  },
  {
   "cell_type": "code",
   "execution_count": 57,
   "metadata": {},
   "outputs": [],
   "source": [
    "gda_x = [i[0, 0] for i in gda_x]\n",
    "gda_y = [i[0, 0] for i in gda_y]\n",
    "cgd_x = [i[0, 0] for i in cgd_x]\n",
    "cgd_y = [i[0, 0] for i in cgd_y]\n",
    "gda_df = pd.DataFrame(data={'x': gda_x, 'y': gda_y, 'label': 'GDA'})\n",
    "cgd_df = pd.DataFrame(data={'x': cgd_x, 'y': cgd_y, 'label': 'CGD'})\n",
    "df = pd.concat([gda_df, cgd_df])"
   ]
  },
  {
   "cell_type": "markdown",
   "metadata": {},
   "source": [
    "Plot $x$ and $y$ together for GDA and CGD. Let color indicate the method and let opacity indicate the recency of the result (i.e., newer data is darker). Fix the scaling for a 1:1 ratio on $x$:$y$."
   ]
  },
  {
   "cell_type": "code",
   "execution_count": 58,
   "metadata": {},
   "outputs": [
    {
     "data": {
      "application/vnd.plotly.v1+json": {
       "config": {
        "plotlyServerURL": "https://plot.ly"
       },
       "data": [
        {
         "hovertemplate": "label=GDA<br>x=%{x}<br>y=%{y}<extra></extra>",
         "legendgroup": "GDA",
         "marker": {
          "color": "#636efa",
          "opacity": [
           0,
           0.02,
           0.04,
           0.06,
           0.08,
           0.1,
           0.12,
           0.14,
           0.16,
           0.18,
           0.2,
           0.22,
           0.24,
           0.26,
           0.28,
           0.3,
           0.32,
           0.34,
           0.36,
           0.38,
           0.4,
           0.42,
           0.44,
           0.46,
           0.48,
           0.5,
           0.52,
           0.54,
           0.56,
           0.58,
           0.6,
           0.62,
           0.64,
           0.66,
           0.68,
           0.7,
           0.72,
           0.74,
           0.76,
           0.78,
           0.8,
           0.82,
           0.84,
           0.86,
           0.88,
           0.9,
           0.92,
           0.94,
           0.96,
           0.98,
           1,
           0,
           0.02,
           0.04,
           0.06,
           0.08,
           0.1,
           0.12,
           0.14,
           0.16,
           0.18,
           0.2,
           0.22,
           0.24,
           0.26,
           0.28,
           0.3,
           0.32,
           0.34,
           0.36,
           0.38,
           0.4,
           0.42,
           0.44,
           0.46,
           0.48,
           0.5,
           0.52,
           0.54,
           0.56,
           0.58,
           0.6,
           0.62,
           0.64,
           0.66,
           0.68,
           0.7,
           0.72,
           0.74,
           0.76,
           0.78,
           0.8,
           0.82,
           0.84,
           0.86,
           0.88,
           0.9,
           0.92,
           0.94,
           0.96,
           0.98,
           1
          ],
          "symbol": "circle"
         },
         "mode": "markers",
         "name": "GDA",
         "orientation": "v",
         "showlegend": true,
         "type": "scatter",
         "x": [
          1,
          0.800000011920929,
          0.5600000023841858,
          0.2879999876022339,
          -0.006400018930435181,
          -0.3123200237751007,
          -0.6179840564727783,
          -0.9111552834510803,
          -1.1796071529388428,
          -1.4116127490997314,
          -1.5964341163635254,
          -1.7247909307479858,
          -1.789290428161621,
          -1.784798264503479,
          -1.7087345123291016,
          -1.5612788200378418,
          -1.3454737663269043,
          -1.067217469215393,
          -0.7351422309875488,
          -0.36037829518318176,
          0.04379132390022278,
          0.46237605810165405,
          0.8792091608047485,
          1.2775472402572632,
          1.6407169103622437,
          1.9527846574783325,
          2.199223756790161,
          2.367551565170288,
          2.4479103088378906,
          2.4335670471191406,
          2.321307420730591,
          2.1117050647735596,
          1.8092503547668457,
          1.4223273992538452,
          0.963034451007843,
          0.44684839248657227,
          -0.10785907506942749,
          -0.6804404854774475,
          -1.2487075328826904,
          -1.7897570133209229,
          -2.280858039855957,
          -2.700368881225586,
          -3.0286452770233154,
          -3.2489070892333984,
          -3.348022937774658,
          -3.3171825408935547,
          -3.152421236038208,
          -2.8549726009368896,
          -2.431427240371704,
          -1.893682837486267,
          -1.258681297302246
         ],
         "xaxis": "x",
         "y": [
          1,
          1.2000000476837158,
          1.3600000143051147,
          1.472000002861023,
          1.5296000242233276,
          1.528320074081421,
          1.4658560752868652,
          1.3422592878341675,
          1.1600282192230225,
          0.924106776714325,
          0.6417841911315918,
          0.3224973678588867,
          -0.02246081829071045,
          -0.38031890988349915,
          -0.7372785806655884,
          -1.0790255069732666,
          -1.391281247138977,
          -1.6603760719299316,
          -1.8738195896148682,
          -2.020848035812378,
          -2.092923641204834,
          -2.084165334701538,
          -1.9916901588439941,
          -1.8158483505249023,
          -1.5603388547897339,
          -1.232195496559143,
          -0.8416385650634766,
          -0.40179380774497986,
          0.07171651721000671,
          0.5612986087799072,
          1.0480120182037354,
          1.5122735500335693,
          1.9346145391464233,
          2.296464681625366,
          2.580930233001709,
          2.7735371589660645,
          2.8629069328308105,
          2.8413350582122803,
          2.705246925354004,
          2.45550537109375,
          2.0975539684295654,
          1.6413823366165161,
          1.1013085842132568,
          0.4955795407295227,
          -0.15420186519622803,
          -0.8238064646720886,
          -1.4872429370880127,
          -2.117727279663086,
          -2.6887218952178955,
          -3.1750073432922363,
          -3.553743839263916
         ],
         "yaxis": "y"
        },
        {
         "hovertemplate": "label=CGD<br>x=%{x}<br>y=%{y}<extra></extra>",
         "legendgroup": "CGD",
         "marker": {
          "color": "#EF553B",
          "opacity": [
           0,
           0.02,
           0.04,
           0.06,
           0.08,
           0.1,
           0.12,
           0.14,
           0.16,
           0.18,
           0.2,
           0.22,
           0.24,
           0.26,
           0.28,
           0.3,
           0.32,
           0.34,
           0.36,
           0.38,
           0.4,
           0.42,
           0.44,
           0.46,
           0.48,
           0.5,
           0.52,
           0.54,
           0.56,
           0.58,
           0.6,
           0.62,
           0.64,
           0.66,
           0.68,
           0.7,
           0.72,
           0.74,
           0.76,
           0.78,
           0.8,
           0.82,
           0.84,
           0.86,
           0.88,
           0.9,
           0.92,
           0.94,
           0.96,
           0.98,
           1,
           0,
           0.02,
           0.04,
           0.06,
           0.08,
           0.1,
           0.12,
           0.14,
           0.16,
           0.18,
           0.2,
           0.22,
           0.24,
           0.26,
           0.28,
           0.3,
           0.32,
           0.34,
           0.36,
           0.38,
           0.4,
           0.42,
           0.44,
           0.46,
           0.48,
           0.5,
           0.52,
           0.54,
           0.56,
           0.58,
           0.6,
           0.62,
           0.64,
           0.66,
           0.68,
           0.7,
           0.72,
           0.74,
           0.76,
           0.78,
           0.8,
           0.82,
           0.84,
           0.86,
           0.88,
           0.9,
           0.92,
           0.94,
           0.96,
           0.98,
           1
          ],
          "symbol": "circle"
         },
         "mode": "markers",
         "name": "CGD",
         "orientation": "v",
         "showlegend": true,
         "type": "scatter",
         "x": [
          1,
          0.7692307829856873,
          0.5177515149116516,
          0.25603100657463074,
          -0.005470722913742065,
          -0.25670427083969116,
          -0.48840177059173584,
          -0.6924031376838684,
          -0.8619273900985718,
          -0.9917804002761841,
          -1.0784937143325806,
          -1.1203913688659668,
          -1.11758553981781,
          -1.0719035863876343,
          -0.9867516160011292,
          -0.8669227361679077,
          -0.7183594703674316,
          -0.5478809475898743,
          -0.3628869354724884,
          -0.17105089128017426,
          0.019985735416412354,
          0.20290611684322357,
          0.37098702788352966,
          0.5183345079421997,
          0.6400788426399231,
          0.7325223088264465,
          0.7932363152503967,
          0.8211060762405396,
          0.816322922706604,
          0.7803267240524292,
          0.7157024145126343,
          0.6260366439819336,
          0.515741229057312,
          0.38985174894332886,
          0.2538098692893982,
          0.11323843896389008,
          -0.02628171443939209,
          -0.15942488610744476,
          -0.2813154458999634,
          -0.38769805431365967,
          -0.4750775694847107,
          -0.5408241152763367,
          -0.5832410454750061,
          -0.6015942096710205,
          -0.5961032509803772,
          -0.5678964257240295,
          -0.5189322829246521,
          -0.4518924355506897,
          -0.3700505793094635,
          -0.2771237790584564,
          -0.17711247503757477
         ],
         "xaxis": "x",
         "y": [
          1,
          1.1538461446762085,
          1.2573964595794678,
          1.3086026906967163,
          1.3075085878372192,
          1.2561677694320679,
          1.1584874391555786,
          1.020006775856018,
          0.8476212620735168,
          0.6492651700973511,
          0.43356645107269287,
          0.20948819816112518,
          -0.014028936624526978,
          -0.22840966284275055,
          -0.4257599711418152,
          -0.5991445183753967,
          -0.7428164482116699,
          -0.8523926138877869,
          -0.9249700307846069,
          -0.9591802358627319,
          -0.9551830887794495,
          -0.9146018624305725,
          -0.8404044508934021,
          -0.7367375493049622,
          -0.6087217926979065,
          -0.4622173309326172,
          -0.30357006192207336,
          -0.1393488496541977,
          0.023915737867355347,
          0.17998109757900238,
          0.323121577501297,
          0.4483289122581482,
          0.5514771342277527,
          0.6294474601745605,
          0.6802094578742981,
          0.7028571367263794,
          0.697600781917572,
          0.6657158136367798,
          0.6094527244567871,
          0.5319131016731262,
          0.4368975758552551,
          0.32873275876045227,
          0.21208456158638,
          0.09176571667194366,
          -0.027454935014247894,
          -0.14103421568870544,
          -0.24482068419456482,
          -0.33519917726516724,
          -0.409209281206131,
          -0.4646340310573578,
          -0.5000565052032471
         ],
         "yaxis": "y"
        }
       ],
       "layout": {
        "legend": {
         "title": {
          "text": "label"
         },
         "tracegroupgap": 0
        },
        "template": {
         "data": {
          "bar": [
           {
            "error_x": {
             "color": "#2a3f5f"
            },
            "error_y": {
             "color": "#2a3f5f"
            },
            "marker": {
             "line": {
              "color": "#E5ECF6",
              "width": 0.5
             },
             "pattern": {
              "fillmode": "overlay",
              "size": 10,
              "solidity": 0.2
             }
            },
            "type": "bar"
           }
          ],
          "barpolar": [
           {
            "marker": {
             "line": {
              "color": "#E5ECF6",
              "width": 0.5
             },
             "pattern": {
              "fillmode": "overlay",
              "size": 10,
              "solidity": 0.2
             }
            },
            "type": "barpolar"
           }
          ],
          "carpet": [
           {
            "aaxis": {
             "endlinecolor": "#2a3f5f",
             "gridcolor": "white",
             "linecolor": "white",
             "minorgridcolor": "white",
             "startlinecolor": "#2a3f5f"
            },
            "baxis": {
             "endlinecolor": "#2a3f5f",
             "gridcolor": "white",
             "linecolor": "white",
             "minorgridcolor": "white",
             "startlinecolor": "#2a3f5f"
            },
            "type": "carpet"
           }
          ],
          "choropleth": [
           {
            "colorbar": {
             "outlinewidth": 0,
             "ticks": ""
            },
            "type": "choropleth"
           }
          ],
          "contour": [
           {
            "colorbar": {
             "outlinewidth": 0,
             "ticks": ""
            },
            "colorscale": [
             [
              0,
              "#0d0887"
             ],
             [
              0.1111111111111111,
              "#46039f"
             ],
             [
              0.2222222222222222,
              "#7201a8"
             ],
             [
              0.3333333333333333,
              "#9c179e"
             ],
             [
              0.4444444444444444,
              "#bd3786"
             ],
             [
              0.5555555555555556,
              "#d8576b"
             ],
             [
              0.6666666666666666,
              "#ed7953"
             ],
             [
              0.7777777777777778,
              "#fb9f3a"
             ],
             [
              0.8888888888888888,
              "#fdca26"
             ],
             [
              1,
              "#f0f921"
             ]
            ],
            "type": "contour"
           }
          ],
          "contourcarpet": [
           {
            "colorbar": {
             "outlinewidth": 0,
             "ticks": ""
            },
            "type": "contourcarpet"
           }
          ],
          "heatmap": [
           {
            "colorbar": {
             "outlinewidth": 0,
             "ticks": ""
            },
            "colorscale": [
             [
              0,
              "#0d0887"
             ],
             [
              0.1111111111111111,
              "#46039f"
             ],
             [
              0.2222222222222222,
              "#7201a8"
             ],
             [
              0.3333333333333333,
              "#9c179e"
             ],
             [
              0.4444444444444444,
              "#bd3786"
             ],
             [
              0.5555555555555556,
              "#d8576b"
             ],
             [
              0.6666666666666666,
              "#ed7953"
             ],
             [
              0.7777777777777778,
              "#fb9f3a"
             ],
             [
              0.8888888888888888,
              "#fdca26"
             ],
             [
              1,
              "#f0f921"
             ]
            ],
            "type": "heatmap"
           }
          ],
          "heatmapgl": [
           {
            "colorbar": {
             "outlinewidth": 0,
             "ticks": ""
            },
            "colorscale": [
             [
              0,
              "#0d0887"
             ],
             [
              0.1111111111111111,
              "#46039f"
             ],
             [
              0.2222222222222222,
              "#7201a8"
             ],
             [
              0.3333333333333333,
              "#9c179e"
             ],
             [
              0.4444444444444444,
              "#bd3786"
             ],
             [
              0.5555555555555556,
              "#d8576b"
             ],
             [
              0.6666666666666666,
              "#ed7953"
             ],
             [
              0.7777777777777778,
              "#fb9f3a"
             ],
             [
              0.8888888888888888,
              "#fdca26"
             ],
             [
              1,
              "#f0f921"
             ]
            ],
            "type": "heatmapgl"
           }
          ],
          "histogram": [
           {
            "marker": {
             "pattern": {
              "fillmode": "overlay",
              "size": 10,
              "solidity": 0.2
             }
            },
            "type": "histogram"
           }
          ],
          "histogram2d": [
           {
            "colorbar": {
             "outlinewidth": 0,
             "ticks": ""
            },
            "colorscale": [
             [
              0,
              "#0d0887"
             ],
             [
              0.1111111111111111,
              "#46039f"
             ],
             [
              0.2222222222222222,
              "#7201a8"
             ],
             [
              0.3333333333333333,
              "#9c179e"
             ],
             [
              0.4444444444444444,
              "#bd3786"
             ],
             [
              0.5555555555555556,
              "#d8576b"
             ],
             [
              0.6666666666666666,
              "#ed7953"
             ],
             [
              0.7777777777777778,
              "#fb9f3a"
             ],
             [
              0.8888888888888888,
              "#fdca26"
             ],
             [
              1,
              "#f0f921"
             ]
            ],
            "type": "histogram2d"
           }
          ],
          "histogram2dcontour": [
           {
            "colorbar": {
             "outlinewidth": 0,
             "ticks": ""
            },
            "colorscale": [
             [
              0,
              "#0d0887"
             ],
             [
              0.1111111111111111,
              "#46039f"
             ],
             [
              0.2222222222222222,
              "#7201a8"
             ],
             [
              0.3333333333333333,
              "#9c179e"
             ],
             [
              0.4444444444444444,
              "#bd3786"
             ],
             [
              0.5555555555555556,
              "#d8576b"
             ],
             [
              0.6666666666666666,
              "#ed7953"
             ],
             [
              0.7777777777777778,
              "#fb9f3a"
             ],
             [
              0.8888888888888888,
              "#fdca26"
             ],
             [
              1,
              "#f0f921"
             ]
            ],
            "type": "histogram2dcontour"
           }
          ],
          "mesh3d": [
           {
            "colorbar": {
             "outlinewidth": 0,
             "ticks": ""
            },
            "type": "mesh3d"
           }
          ],
          "parcoords": [
           {
            "line": {
             "colorbar": {
              "outlinewidth": 0,
              "ticks": ""
             }
            },
            "type": "parcoords"
           }
          ],
          "pie": [
           {
            "automargin": true,
            "type": "pie"
           }
          ],
          "scatter": [
           {
            "fillpattern": {
             "fillmode": "overlay",
             "size": 10,
             "solidity": 0.2
            },
            "type": "scatter"
           }
          ],
          "scatter3d": [
           {
            "line": {
             "colorbar": {
              "outlinewidth": 0,
              "ticks": ""
             }
            },
            "marker": {
             "colorbar": {
              "outlinewidth": 0,
              "ticks": ""
             }
            },
            "type": "scatter3d"
           }
          ],
          "scattercarpet": [
           {
            "marker": {
             "colorbar": {
              "outlinewidth": 0,
              "ticks": ""
             }
            },
            "type": "scattercarpet"
           }
          ],
          "scattergeo": [
           {
            "marker": {
             "colorbar": {
              "outlinewidth": 0,
              "ticks": ""
             }
            },
            "type": "scattergeo"
           }
          ],
          "scattergl": [
           {
            "marker": {
             "colorbar": {
              "outlinewidth": 0,
              "ticks": ""
             }
            },
            "type": "scattergl"
           }
          ],
          "scattermapbox": [
           {
            "marker": {
             "colorbar": {
              "outlinewidth": 0,
              "ticks": ""
             }
            },
            "type": "scattermapbox"
           }
          ],
          "scatterpolar": [
           {
            "marker": {
             "colorbar": {
              "outlinewidth": 0,
              "ticks": ""
             }
            },
            "type": "scatterpolar"
           }
          ],
          "scatterpolargl": [
           {
            "marker": {
             "colorbar": {
              "outlinewidth": 0,
              "ticks": ""
             }
            },
            "type": "scatterpolargl"
           }
          ],
          "scatterternary": [
           {
            "marker": {
             "colorbar": {
              "outlinewidth": 0,
              "ticks": ""
             }
            },
            "type": "scatterternary"
           }
          ],
          "surface": [
           {
            "colorbar": {
             "outlinewidth": 0,
             "ticks": ""
            },
            "colorscale": [
             [
              0,
              "#0d0887"
             ],
             [
              0.1111111111111111,
              "#46039f"
             ],
             [
              0.2222222222222222,
              "#7201a8"
             ],
             [
              0.3333333333333333,
              "#9c179e"
             ],
             [
              0.4444444444444444,
              "#bd3786"
             ],
             [
              0.5555555555555556,
              "#d8576b"
             ],
             [
              0.6666666666666666,
              "#ed7953"
             ],
             [
              0.7777777777777778,
              "#fb9f3a"
             ],
             [
              0.8888888888888888,
              "#fdca26"
             ],
             [
              1,
              "#f0f921"
             ]
            ],
            "type": "surface"
           }
          ],
          "table": [
           {
            "cells": {
             "fill": {
              "color": "#EBF0F8"
             },
             "line": {
              "color": "white"
             }
            },
            "header": {
             "fill": {
              "color": "#C8D4E3"
             },
             "line": {
              "color": "white"
             }
            },
            "type": "table"
           }
          ]
         },
         "layout": {
          "annotationdefaults": {
           "arrowcolor": "#2a3f5f",
           "arrowhead": 0,
           "arrowwidth": 1
          },
          "autotypenumbers": "strict",
          "coloraxis": {
           "colorbar": {
            "outlinewidth": 0,
            "ticks": ""
           }
          },
          "colorscale": {
           "diverging": [
            [
             0,
             "#8e0152"
            ],
            [
             0.1,
             "#c51b7d"
            ],
            [
             0.2,
             "#de77ae"
            ],
            [
             0.3,
             "#f1b6da"
            ],
            [
             0.4,
             "#fde0ef"
            ],
            [
             0.5,
             "#f7f7f7"
            ],
            [
             0.6,
             "#e6f5d0"
            ],
            [
             0.7,
             "#b8e186"
            ],
            [
             0.8,
             "#7fbc41"
            ],
            [
             0.9,
             "#4d9221"
            ],
            [
             1,
             "#276419"
            ]
           ],
           "sequential": [
            [
             0,
             "#0d0887"
            ],
            [
             0.1111111111111111,
             "#46039f"
            ],
            [
             0.2222222222222222,
             "#7201a8"
            ],
            [
             0.3333333333333333,
             "#9c179e"
            ],
            [
             0.4444444444444444,
             "#bd3786"
            ],
            [
             0.5555555555555556,
             "#d8576b"
            ],
            [
             0.6666666666666666,
             "#ed7953"
            ],
            [
             0.7777777777777778,
             "#fb9f3a"
            ],
            [
             0.8888888888888888,
             "#fdca26"
            ],
            [
             1,
             "#f0f921"
            ]
           ],
           "sequentialminus": [
            [
             0,
             "#0d0887"
            ],
            [
             0.1111111111111111,
             "#46039f"
            ],
            [
             0.2222222222222222,
             "#7201a8"
            ],
            [
             0.3333333333333333,
             "#9c179e"
            ],
            [
             0.4444444444444444,
             "#bd3786"
            ],
            [
             0.5555555555555556,
             "#d8576b"
            ],
            [
             0.6666666666666666,
             "#ed7953"
            ],
            [
             0.7777777777777778,
             "#fb9f3a"
            ],
            [
             0.8888888888888888,
             "#fdca26"
            ],
            [
             1,
             "#f0f921"
            ]
           ]
          },
          "colorway": [
           "#636efa",
           "#EF553B",
           "#00cc96",
           "#ab63fa",
           "#FFA15A",
           "#19d3f3",
           "#FF6692",
           "#B6E880",
           "#FF97FF",
           "#FECB52"
          ],
          "font": {
           "color": "#2a3f5f"
          },
          "geo": {
           "bgcolor": "white",
           "lakecolor": "white",
           "landcolor": "#E5ECF6",
           "showlakes": true,
           "showland": true,
           "subunitcolor": "white"
          },
          "hoverlabel": {
           "align": "left"
          },
          "hovermode": "closest",
          "mapbox": {
           "style": "light"
          },
          "paper_bgcolor": "white",
          "plot_bgcolor": "#E5ECF6",
          "polar": {
           "angularaxis": {
            "gridcolor": "white",
            "linecolor": "white",
            "ticks": ""
           },
           "bgcolor": "#E5ECF6",
           "radialaxis": {
            "gridcolor": "white",
            "linecolor": "white",
            "ticks": ""
           }
          },
          "scene": {
           "xaxis": {
            "backgroundcolor": "#E5ECF6",
            "gridcolor": "white",
            "gridwidth": 2,
            "linecolor": "white",
            "showbackground": true,
            "ticks": "",
            "zerolinecolor": "white"
           },
           "yaxis": {
            "backgroundcolor": "#E5ECF6",
            "gridcolor": "white",
            "gridwidth": 2,
            "linecolor": "white",
            "showbackground": true,
            "ticks": "",
            "zerolinecolor": "white"
           },
           "zaxis": {
            "backgroundcolor": "#E5ECF6",
            "gridcolor": "white",
            "gridwidth": 2,
            "linecolor": "white",
            "showbackground": true,
            "ticks": "",
            "zerolinecolor": "white"
           }
          },
          "shapedefaults": {
           "line": {
            "color": "#2a3f5f"
           }
          },
          "ternary": {
           "aaxis": {
            "gridcolor": "white",
            "linecolor": "white",
            "ticks": ""
           },
           "baxis": {
            "gridcolor": "white",
            "linecolor": "white",
            "ticks": ""
           },
           "bgcolor": "#E5ECF6",
           "caxis": {
            "gridcolor": "white",
            "linecolor": "white",
            "ticks": ""
           }
          },
          "title": {
           "x": 0.05
          },
          "xaxis": {
           "automargin": true,
           "gridcolor": "white",
           "linecolor": "white",
           "ticks": "",
           "title": {
            "standoff": 15
           },
           "zerolinecolor": "white",
           "zerolinewidth": 2
          },
          "yaxis": {
           "automargin": true,
           "gridcolor": "white",
           "linecolor": "white",
           "ticks": "",
           "title": {
            "standoff": 15
           },
           "zerolinecolor": "white",
           "zerolinewidth": 2
          }
         }
        },
        "title": {
         "text": "Comparison of GDA and CGD for a simple bilinear game"
        },
        "xaxis": {
         "anchor": "y",
         "domain": [
          0,
          1
         ],
         "title": {
          "text": "x"
         }
        },
        "yaxis": {
         "anchor": "x",
         "domain": [
          0,
          1
         ],
         "scaleanchor": "x",
         "scaleratio": 1,
         "title": {
          "text": "y"
         }
        }
       }
      }
     },
     "metadata": {},
     "output_type": "display_data"
    }
   ],
   "source": [
    "fig = px.scatter(df, x=df.x, y=df.y, color=df.label, \n",
    "opacity=df.index/50,\n",
    "title='Comparison of GDA and CGD for a simple bilinear game')\n",
    "fig.update_yaxes(\n",
    "    scaleanchor = \"x\",\n",
    "    scaleratio = 1,\n",
    ")\n",
    "fig.show()"
   ]
  }
 ],
 "metadata": {
  "kernelspec": {
   "display_name": "Python 3.9.5 64-bit",
   "language": "python",
   "name": "python3"
  },
  "language_info": {
   "codemirror_mode": {
    "name": "ipython",
    "version": 3
   },
   "file_extension": ".py",
   "mimetype": "text/x-python",
   "name": "python",
   "nbconvert_exporter": "python",
   "pygments_lexer": "ipython3",
   "version": "3.9.5"
  },
  "orig_nbformat": 4,
  "vscode": {
   "interpreter": {
    "hash": "aee8b7b246df8f9039afb4144a1f6fd8d2ca17a180786b69acc140d282b71a49"
   }
  }
 },
 "nbformat": 4,
 "nbformat_minor": 2
}

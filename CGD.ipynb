{
 "cells": [
  {
   "cell_type": "code",
   "execution_count": 321,
   "metadata": {},
   "outputs": [],
   "source": [
    "from jax import grad, jacfwd, jacrev, jit\n",
    "import jax.numpy as jnp\n",
    "from jax.scipy.sparse.linalg import cg, bicgstab\n",
    "import plotly.express as px\n"
   ]
  },
  {
   "cell_type": "markdown",
   "metadata": {},
   "source": [
    "Computes the Hessian-vector product of a function $f$ on two variables with a vector $v$.\n"
   ]
  },
  {
   "cell_type": "code",
   "execution_count": 322,
   "metadata": {},
   "outputs": [],
   "source": [
    "def hvp(f, x, y, v, a1, a2):\n",
    "    return grad(lambda x, y: jnp.vdot(grad(f, argnums=a1)(x, y), v), argnums=a2)(x, y)\n"
   ]
  },
  {
   "cell_type": "markdown",
   "metadata": {},
   "source": [
    "Competitive gradient descent (CGD) is a new algorithm for competitive optimization which offers a generalization of gradient descent to the competitive setting. The algorithm pursues a game-theoretic approach where the notion of a solution is given by the Nash equilibrium where neither player can unilaterally improve their strategy.\n"
   ]
  },
  {
   "cell_type": "code",
   "execution_count": 323,
   "metadata": {},
   "outputs": [],
   "source": [
    "def CGD(f, g, x0, y0, n=0.2, iterations=50):\n",
    "    x = [x0]\n",
    "    y = [y0]\n",
    "    for i in range(iterations):\n",
    "        dfdx = grad(f, argnums=0)\n",
    "        dgdy = grad(g, argnums=1)\n",
    "        lx = x[-1]\n",
    "        ly = y[-1]\n",
    "\n",
    "        rhs_x = dfdx(lx, ly) - n * hvp(f, lx, ly, dgdy(lx, ly), 1, 0)\n",
    "\n",
    "        def lhs_x(v):\n",
    "            return v - n ** 2 * hvp(f, lx, ly, hvp(g, lx, ly, v, 0, 1), 1, 0)\n",
    "        sol_x = cg(lhs_x, rhs_x)[0]\n",
    "\n",
    "        rhs_y = dgdy(lx, ly) - n * hvp(g, lx, ly, dfdx(lx, ly), 0, 1)\n",
    "\n",
    "        def lhs_y(v):\n",
    "            return v - n ** 2 * hvp(g, lx, ly, hvp(f, lx, ly, v, 1, 0), 0, 1)\n",
    "        sol_y = cg(lhs_y, rhs_y)[0]\n",
    "\n",
    "        nx = lx - n * sol_x\n",
    "        ny = ly - n * sol_y\n",
    "        x.append(nx)\n",
    "        y.append(ny)\n",
    "    return x, y\n"
   ]
  },
  {
   "cell_type": "markdown",
   "metadata": {},
   "source": [
    "Define a simple bilinear game with functions $f(x,y)=x^Ty$ and $g(x,y)=-f(x,y)$. Run GDA for 50 iterations using $\\eta=0.2$ with $x$ and $y$ starting as column vectors consisting of a single 1.\n"
   ]
  },
  {
   "cell_type": "code",
   "execution_count": 324,
   "metadata": {},
   "outputs": [],
   "source": [
    "def f(x, y): return (x.T @ y)[0, 0]\n",
    "def g(x, y): return -f(x, y)\n",
    "\n",
    "\n",
    "x, y = CGD(f, g, jnp.ones((1, 1)), jnp.ones((1, 1)), iterations=50)\n"
   ]
  },
  {
   "cell_type": "markdown",
   "metadata": {},
   "source": [
    "We can visualize this game by plotting $x$ and $y$ for each iteration of CGD. This demonstrates the convergent behavior of CGD when compared against SimGD, which spirals away from the Nash equilibrium instead of toward it.\n"
   ]
  },
  {
   "cell_type": "code",
   "execution_count": 325,
   "metadata": {},
   "outputs": [
    {
     "data": {
      "application/vnd.plotly.v1+json": {
       "config": {
        "plotlyServerURL": "https://plot.ly"
       },
       "data": [
        {
         "hovertemplate": "x=%{x}<br>y=%{y}<extra></extra>",
         "legendgroup": "",
         "marker": {
          "color": "#636efa",
          "symbol": "circle"
         },
         "mode": "markers",
         "name": "",
         "orientation": "v",
         "showlegend": false,
         "type": "scatter",
         "x": [
          1,
          0.7692307829856873,
          0.5177515149116516,
          0.25603100657463074,
          -0.005470722913742065,
          -0.25670427083969116,
          -0.48840177059173584,
          -0.6924031376838684,
          -0.8619273900985718,
          -0.9917804002761841,
          -1.0784937143325806,
          -1.1203913688659668,
          -1.11758553981781,
          -1.0719035863876343,
          -0.9867516160011292,
          -0.8669227361679077,
          -0.7183594703674316,
          -0.5478809475898743,
          -0.3628869354724884,
          -0.17105089128017426,
          0.019985735416412354,
          0.20290611684322357,
          0.37098702788352966,
          0.5183345079421997,
          0.6400788426399231,
          0.7325223088264465,
          0.7932363152503967,
          0.8211060762405396,
          0.816322922706604,
          0.7803267240524292,
          0.7157024145126343,
          0.6260366439819336,
          0.515741229057312,
          0.38985174894332886,
          0.2538098692893982,
          0.11323843896389008,
          -0.02628171443939209,
          -0.15942488610744476,
          -0.2813154458999634,
          -0.38769805431365967,
          -0.4750775694847107,
          -0.5408241152763367,
          -0.5832410454750061,
          -0.6015942096710205,
          -0.5961032509803772,
          -0.5678964257240295,
          -0.5189322829246521,
          -0.4518924355506897,
          -0.3700505793094635,
          -0.2771237790584564,
          -0.17711247503757477,
          -0.07413574308156967,
          0.02773170918226242,
          0.12461458891630173,
          0.212978333234787,
          0.2897520065307617,
          0.35242852568626404,
          0.3991394639015198,
          0.42870232462882996,
          0.44063958525657654,
          0.43517005443573,
          0.4131735861301422,
          0.3761318325996399,
          0.3260481655597687,
          0.26535046100616455,
          0.19678150117397308,
          0.12328130006790161,
          0.04786643385887146,
          -0.02648887038230896,
          -0.09696555882692337,
          -0.16100215911865234,
          -0.2163834273815155,
          -0.26131221652030945,
          -0.29446250200271606,
          -0.31501227617263794,
          -0.3226558268070221,
          -0.31759554147720337,
          -0.30051466822624207,
          -0.27253249287605286,
          -0.23514455556869507,
          -0.19015058875083923,
          -0.13957367837429047,
          -0.08557380735874176,
          -0.03035956248641014,
          0.02389875054359436,
          0.07515101134777069,
          0.12154160439968109,
          0.16147327423095703,
          0.19365859031677246,
          0.21715760231018066,
          0.23140059411525726,
          0.23619575798511505,
          0.23172204196453094,
          0.21850800514221191,
          0.19739803671836853,
          0.16950775682926178,
          0.1361706554889679,
          0.098878413438797,
          0.05921747162938118,
          0.018804360181093216,
          -0.02077765017747879
         ],
         "xaxis": "x",
         "y": [
          1,
          1.1538461446762085,
          1.2573964595794678,
          1.3086026906967163,
          1.3075085878372192,
          1.2561677694320679,
          1.1584874391555786,
          1.020006775856018,
          0.8476212620735168,
          0.6492651700973511,
          0.43356645107269287,
          0.20948819816112518,
          -0.014028936624526978,
          -0.22840966284275055,
          -0.4257599711418152,
          -0.5991445183753967,
          -0.7428164482116699,
          -0.8523926138877869,
          -0.9249700307846069,
          -0.9591802358627319,
          -0.9551830887794495,
          -0.9146018624305725,
          -0.8404044508934021,
          -0.7367375493049622,
          -0.6087217926979065,
          -0.4622173309326172,
          -0.30357006192207336,
          -0.1393488496541977,
          0.023915737867355347,
          0.17998109757900238,
          0.323121577501297,
          0.4483289122581482,
          0.5514771342277527,
          0.6294474601745605,
          0.6802094578742981,
          0.7028571367263794,
          0.697600781917572,
          0.6657158136367798,
          0.6094527244567871,
          0.5319131016731262,
          0.4368975758552551,
          0.32873275876045227,
          0.21208456158638,
          0.09176571667194366,
          -0.027454935014247894,
          -0.14103421568870544,
          -0.24482068419456482,
          -0.33519917726516724,
          -0.409209281206131,
          -0.4646340310573578,
          -0.5000565052032471,
          -0.5148836374282837,
          -0.509337306022644,
          -0.48441439867019653,
          -0.4418187439441681,
          -0.38386833667755127,
          -0.313382625579834,
          -0.23355472087860107,
          -0.14781425893306732,
          -0.0596863329410553,
          0.02734767645597458,
          0.10998239368200302,
          0.1852087676525116,
          0.25041839480400085,
          0.30348849296569824,
          0.34284478425979614,
          0.36750105023384094,
          0.37707433104515076,
          0.3717765510082245,
          0.35238343477249146,
          0.32018300890922546,
          0.2769063115119934,
          0.22464387118816376,
          0.1657513678073883,
          0.10274890810251236,
          0.03821774572134018,
          -0.025301367044448853,
          -0.08540430665016174,
          -0.13991080224514008,
          -0.18693971633911133,
          -0.22496983408927917,
          -0.25288456678390503,
          -0.26999932527542114,
          -0.2760712504386902,
          -0.27129149436950684,
          -0.25626128911972046,
          -0.231952965259552,
          -0.19965830445289612,
          -0.16092658042907715,
          -0.11749505996704102,
          -0.0712149441242218,
          -0.02397579327225685,
          0.02236861363053322,
          0.06607021391391754,
          0.10554982721805573,
          0.13945138454437256,
          0.16668550670146942,
          0.1864611953496933,
          0.1983046978712082,
          0.202065572142601,
          0.19791004061698914
         ],
         "yaxis": "y"
        }
       ],
       "layout": {
        "legend": {
         "tracegroupgap": 0
        },
        "margin": {
         "t": 60
        },
        "template": {
         "data": {
          "bar": [
           {
            "error_x": {
             "color": "#2a3f5f"
            },
            "error_y": {
             "color": "#2a3f5f"
            },
            "marker": {
             "line": {
              "color": "#E5ECF6",
              "width": 0.5
             },
             "pattern": {
              "fillmode": "overlay",
              "size": 10,
              "solidity": 0.2
             }
            },
            "type": "bar"
           }
          ],
          "barpolar": [
           {
            "marker": {
             "line": {
              "color": "#E5ECF6",
              "width": 0.5
             },
             "pattern": {
              "fillmode": "overlay",
              "size": 10,
              "solidity": 0.2
             }
            },
            "type": "barpolar"
           }
          ],
          "carpet": [
           {
            "aaxis": {
             "endlinecolor": "#2a3f5f",
             "gridcolor": "white",
             "linecolor": "white",
             "minorgridcolor": "white",
             "startlinecolor": "#2a3f5f"
            },
            "baxis": {
             "endlinecolor": "#2a3f5f",
             "gridcolor": "white",
             "linecolor": "white",
             "minorgridcolor": "white",
             "startlinecolor": "#2a3f5f"
            },
            "type": "carpet"
           }
          ],
          "choropleth": [
           {
            "colorbar": {
             "outlinewidth": 0,
             "ticks": ""
            },
            "type": "choropleth"
           }
          ],
          "contour": [
           {
            "colorbar": {
             "outlinewidth": 0,
             "ticks": ""
            },
            "colorscale": [
             [
              0,
              "#0d0887"
             ],
             [
              0.1111111111111111,
              "#46039f"
             ],
             [
              0.2222222222222222,
              "#7201a8"
             ],
             [
              0.3333333333333333,
              "#9c179e"
             ],
             [
              0.4444444444444444,
              "#bd3786"
             ],
             [
              0.5555555555555556,
              "#d8576b"
             ],
             [
              0.6666666666666666,
              "#ed7953"
             ],
             [
              0.7777777777777778,
              "#fb9f3a"
             ],
             [
              0.8888888888888888,
              "#fdca26"
             ],
             [
              1,
              "#f0f921"
             ]
            ],
            "type": "contour"
           }
          ],
          "contourcarpet": [
           {
            "colorbar": {
             "outlinewidth": 0,
             "ticks": ""
            },
            "type": "contourcarpet"
           }
          ],
          "heatmap": [
           {
            "colorbar": {
             "outlinewidth": 0,
             "ticks": ""
            },
            "colorscale": [
             [
              0,
              "#0d0887"
             ],
             [
              0.1111111111111111,
              "#46039f"
             ],
             [
              0.2222222222222222,
              "#7201a8"
             ],
             [
              0.3333333333333333,
              "#9c179e"
             ],
             [
              0.4444444444444444,
              "#bd3786"
             ],
             [
              0.5555555555555556,
              "#d8576b"
             ],
             [
              0.6666666666666666,
              "#ed7953"
             ],
             [
              0.7777777777777778,
              "#fb9f3a"
             ],
             [
              0.8888888888888888,
              "#fdca26"
             ],
             [
              1,
              "#f0f921"
             ]
            ],
            "type": "heatmap"
           }
          ],
          "heatmapgl": [
           {
            "colorbar": {
             "outlinewidth": 0,
             "ticks": ""
            },
            "colorscale": [
             [
              0,
              "#0d0887"
             ],
             [
              0.1111111111111111,
              "#46039f"
             ],
             [
              0.2222222222222222,
              "#7201a8"
             ],
             [
              0.3333333333333333,
              "#9c179e"
             ],
             [
              0.4444444444444444,
              "#bd3786"
             ],
             [
              0.5555555555555556,
              "#d8576b"
             ],
             [
              0.6666666666666666,
              "#ed7953"
             ],
             [
              0.7777777777777778,
              "#fb9f3a"
             ],
             [
              0.8888888888888888,
              "#fdca26"
             ],
             [
              1,
              "#f0f921"
             ]
            ],
            "type": "heatmapgl"
           }
          ],
          "histogram": [
           {
            "marker": {
             "pattern": {
              "fillmode": "overlay",
              "size": 10,
              "solidity": 0.2
             }
            },
            "type": "histogram"
           }
          ],
          "histogram2d": [
           {
            "colorbar": {
             "outlinewidth": 0,
             "ticks": ""
            },
            "colorscale": [
             [
              0,
              "#0d0887"
             ],
             [
              0.1111111111111111,
              "#46039f"
             ],
             [
              0.2222222222222222,
              "#7201a8"
             ],
             [
              0.3333333333333333,
              "#9c179e"
             ],
             [
              0.4444444444444444,
              "#bd3786"
             ],
             [
              0.5555555555555556,
              "#d8576b"
             ],
             [
              0.6666666666666666,
              "#ed7953"
             ],
             [
              0.7777777777777778,
              "#fb9f3a"
             ],
             [
              0.8888888888888888,
              "#fdca26"
             ],
             [
              1,
              "#f0f921"
             ]
            ],
            "type": "histogram2d"
           }
          ],
          "histogram2dcontour": [
           {
            "colorbar": {
             "outlinewidth": 0,
             "ticks": ""
            },
            "colorscale": [
             [
              0,
              "#0d0887"
             ],
             [
              0.1111111111111111,
              "#46039f"
             ],
             [
              0.2222222222222222,
              "#7201a8"
             ],
             [
              0.3333333333333333,
              "#9c179e"
             ],
             [
              0.4444444444444444,
              "#bd3786"
             ],
             [
              0.5555555555555556,
              "#d8576b"
             ],
             [
              0.6666666666666666,
              "#ed7953"
             ],
             [
              0.7777777777777778,
              "#fb9f3a"
             ],
             [
              0.8888888888888888,
              "#fdca26"
             ],
             [
              1,
              "#f0f921"
             ]
            ],
            "type": "histogram2dcontour"
           }
          ],
          "mesh3d": [
           {
            "colorbar": {
             "outlinewidth": 0,
             "ticks": ""
            },
            "type": "mesh3d"
           }
          ],
          "parcoords": [
           {
            "line": {
             "colorbar": {
              "outlinewidth": 0,
              "ticks": ""
             }
            },
            "type": "parcoords"
           }
          ],
          "pie": [
           {
            "automargin": true,
            "type": "pie"
           }
          ],
          "scatter": [
           {
            "fillpattern": {
             "fillmode": "overlay",
             "size": 10,
             "solidity": 0.2
            },
            "type": "scatter"
           }
          ],
          "scatter3d": [
           {
            "line": {
             "colorbar": {
              "outlinewidth": 0,
              "ticks": ""
             }
            },
            "marker": {
             "colorbar": {
              "outlinewidth": 0,
              "ticks": ""
             }
            },
            "type": "scatter3d"
           }
          ],
          "scattercarpet": [
           {
            "marker": {
             "colorbar": {
              "outlinewidth": 0,
              "ticks": ""
             }
            },
            "type": "scattercarpet"
           }
          ],
          "scattergeo": [
           {
            "marker": {
             "colorbar": {
              "outlinewidth": 0,
              "ticks": ""
             }
            },
            "type": "scattergeo"
           }
          ],
          "scattergl": [
           {
            "marker": {
             "colorbar": {
              "outlinewidth": 0,
              "ticks": ""
             }
            },
            "type": "scattergl"
           }
          ],
          "scattermapbox": [
           {
            "marker": {
             "colorbar": {
              "outlinewidth": 0,
              "ticks": ""
             }
            },
            "type": "scattermapbox"
           }
          ],
          "scatterpolar": [
           {
            "marker": {
             "colorbar": {
              "outlinewidth": 0,
              "ticks": ""
             }
            },
            "type": "scatterpolar"
           }
          ],
          "scatterpolargl": [
           {
            "marker": {
             "colorbar": {
              "outlinewidth": 0,
              "ticks": ""
             }
            },
            "type": "scatterpolargl"
           }
          ],
          "scatterternary": [
           {
            "marker": {
             "colorbar": {
              "outlinewidth": 0,
              "ticks": ""
             }
            },
            "type": "scatterternary"
           }
          ],
          "surface": [
           {
            "colorbar": {
             "outlinewidth": 0,
             "ticks": ""
            },
            "colorscale": [
             [
              0,
              "#0d0887"
             ],
             [
              0.1111111111111111,
              "#46039f"
             ],
             [
              0.2222222222222222,
              "#7201a8"
             ],
             [
              0.3333333333333333,
              "#9c179e"
             ],
             [
              0.4444444444444444,
              "#bd3786"
             ],
             [
              0.5555555555555556,
              "#d8576b"
             ],
             [
              0.6666666666666666,
              "#ed7953"
             ],
             [
              0.7777777777777778,
              "#fb9f3a"
             ],
             [
              0.8888888888888888,
              "#fdca26"
             ],
             [
              1,
              "#f0f921"
             ]
            ],
            "type": "surface"
           }
          ],
          "table": [
           {
            "cells": {
             "fill": {
              "color": "#EBF0F8"
             },
             "line": {
              "color": "white"
             }
            },
            "header": {
             "fill": {
              "color": "#C8D4E3"
             },
             "line": {
              "color": "white"
             }
            },
            "type": "table"
           }
          ]
         },
         "layout": {
          "annotationdefaults": {
           "arrowcolor": "#2a3f5f",
           "arrowhead": 0,
           "arrowwidth": 1
          },
          "autotypenumbers": "strict",
          "coloraxis": {
           "colorbar": {
            "outlinewidth": 0,
            "ticks": ""
           }
          },
          "colorscale": {
           "diverging": [
            [
             0,
             "#8e0152"
            ],
            [
             0.1,
             "#c51b7d"
            ],
            [
             0.2,
             "#de77ae"
            ],
            [
             0.3,
             "#f1b6da"
            ],
            [
             0.4,
             "#fde0ef"
            ],
            [
             0.5,
             "#f7f7f7"
            ],
            [
             0.6,
             "#e6f5d0"
            ],
            [
             0.7,
             "#b8e186"
            ],
            [
             0.8,
             "#7fbc41"
            ],
            [
             0.9,
             "#4d9221"
            ],
            [
             1,
             "#276419"
            ]
           ],
           "sequential": [
            [
             0,
             "#0d0887"
            ],
            [
             0.1111111111111111,
             "#46039f"
            ],
            [
             0.2222222222222222,
             "#7201a8"
            ],
            [
             0.3333333333333333,
             "#9c179e"
            ],
            [
             0.4444444444444444,
             "#bd3786"
            ],
            [
             0.5555555555555556,
             "#d8576b"
            ],
            [
             0.6666666666666666,
             "#ed7953"
            ],
            [
             0.7777777777777778,
             "#fb9f3a"
            ],
            [
             0.8888888888888888,
             "#fdca26"
            ],
            [
             1,
             "#f0f921"
            ]
           ],
           "sequentialminus": [
            [
             0,
             "#0d0887"
            ],
            [
             0.1111111111111111,
             "#46039f"
            ],
            [
             0.2222222222222222,
             "#7201a8"
            ],
            [
             0.3333333333333333,
             "#9c179e"
            ],
            [
             0.4444444444444444,
             "#bd3786"
            ],
            [
             0.5555555555555556,
             "#d8576b"
            ],
            [
             0.6666666666666666,
             "#ed7953"
            ],
            [
             0.7777777777777778,
             "#fb9f3a"
            ],
            [
             0.8888888888888888,
             "#fdca26"
            ],
            [
             1,
             "#f0f921"
            ]
           ]
          },
          "colorway": [
           "#636efa",
           "#EF553B",
           "#00cc96",
           "#ab63fa",
           "#FFA15A",
           "#19d3f3",
           "#FF6692",
           "#B6E880",
           "#FF97FF",
           "#FECB52"
          ],
          "font": {
           "color": "#2a3f5f"
          },
          "geo": {
           "bgcolor": "white",
           "lakecolor": "white",
           "landcolor": "#E5ECF6",
           "showlakes": true,
           "showland": true,
           "subunitcolor": "white"
          },
          "hoverlabel": {
           "align": "left"
          },
          "hovermode": "closest",
          "mapbox": {
           "style": "light"
          },
          "paper_bgcolor": "white",
          "plot_bgcolor": "#E5ECF6",
          "polar": {
           "angularaxis": {
            "gridcolor": "white",
            "linecolor": "white",
            "ticks": ""
           },
           "bgcolor": "#E5ECF6",
           "radialaxis": {
            "gridcolor": "white",
            "linecolor": "white",
            "ticks": ""
           }
          },
          "scene": {
           "xaxis": {
            "backgroundcolor": "#E5ECF6",
            "gridcolor": "white",
            "gridwidth": 2,
            "linecolor": "white",
            "showbackground": true,
            "ticks": "",
            "zerolinecolor": "white"
           },
           "yaxis": {
            "backgroundcolor": "#E5ECF6",
            "gridcolor": "white",
            "gridwidth": 2,
            "linecolor": "white",
            "showbackground": true,
            "ticks": "",
            "zerolinecolor": "white"
           },
           "zaxis": {
            "backgroundcolor": "#E5ECF6",
            "gridcolor": "white",
            "gridwidth": 2,
            "linecolor": "white",
            "showbackground": true,
            "ticks": "",
            "zerolinecolor": "white"
           }
          },
          "shapedefaults": {
           "line": {
            "color": "#2a3f5f"
           }
          },
          "ternary": {
           "aaxis": {
            "gridcolor": "white",
            "linecolor": "white",
            "ticks": ""
           },
           "baxis": {
            "gridcolor": "white",
            "linecolor": "white",
            "ticks": ""
           },
           "bgcolor": "#E5ECF6",
           "caxis": {
            "gridcolor": "white",
            "linecolor": "white",
            "ticks": ""
           }
          },
          "title": {
           "x": 0.05
          },
          "xaxis": {
           "automargin": true,
           "gridcolor": "white",
           "linecolor": "white",
           "ticks": "",
           "title": {
            "standoff": 15
           },
           "zerolinecolor": "white",
           "zerolinewidth": 2
          },
          "yaxis": {
           "automargin": true,
           "gridcolor": "white",
           "linecolor": "white",
           "ticks": "",
           "title": {
            "standoff": 15
           },
           "zerolinecolor": "white",
           "zerolinewidth": 2
          }
         }
        },
        "xaxis": {
         "anchor": "y",
         "domain": [
          0,
          1
         ],
         "title": {
          "text": "x"
         }
        },
        "yaxis": {
         "anchor": "x",
         "domain": [
          0,
          1
         ],
         "scaleanchor": "x",
         "scaleratio": 1,
         "title": {
          "text": "y"
         }
        }
       }
      }
     },
     "metadata": {},
     "output_type": "display_data"
    }
   ],
   "source": [
    "fig = px.scatter(x=[i[0, 0] for i in x], y=[i[0, 0] for i in y])\n",
    "fig.update_yaxes(\n",
    "    scaleanchor=\"x\",\n",
    "    scaleratio=1,\n",
    ")\n",
    "fig.show()\n"
   ]
  }
 ],
 "metadata": {
  "kernelspec": {
   "display_name": "Python 3.9.5 64-bit",
   "language": "python",
   "name": "python3"
  },
  "language_info": {
   "codemirror_mode": {
    "name": "ipython",
    "version": 3
   },
   "file_extension": ".py",
   "mimetype": "text/x-python",
   "name": "python",
   "nbconvert_exporter": "python",
   "pygments_lexer": "ipython3",
   "version": "3.9.5"
  },
  "orig_nbformat": 4,
  "vscode": {
   "interpreter": {
    "hash": "aee8b7b246df8f9039afb4144a1f6fd8d2ca17a180786b69acc140d282b71a49"
   }
  }
 },
 "nbformat": 4,
 "nbformat_minor": 2
}
